{
 "cells": [
  {
   "cell_type": "code",
   "execution_count": 1,
   "id": "1e6dd5d2",
   "metadata": {},
   "outputs": [
    {
     "name": "stdout",
     "output_type": "stream",
     "text": [
      "WARNING:tensorflow:From c:\\movie Reviews\\venv\\Lib\\site-packages\\keras\\src\\losses.py:2976: The name tf.losses.sparse_softmax_cross_entropy is deprecated. Please use tf.compat.v1.losses.sparse_softmax_cross_entropy instead.\n",
      "\n"
     ]
    }
   ],
   "source": [
    "##Import libraries and load the Model\n",
    "import numpy as np\n",
    "import tensorflow as tf\n",
    "from tensorflow.keras.datasets import imdb\n",
    "from tensorflow.keras.preprocessing import sequence\n",
    "from tensorflow.keras.models import load_model"
   ]
  },
  {
   "cell_type": "code",
   "execution_count": 2,
   "metadata": {},
   "outputs": [],
   "source": [
    "###Load the IMDB dataset word index\n",
    "word_index = imdb.get_word_index()\n",
    "reverse_word_index = {value: key for key, value in word_index.items()}\n"
   ]
  },
  {
   "cell_type": "code",
   "execution_count": 5,
   "metadata": {},
   "outputs": [
    {
     "name": "stdout",
     "output_type": "stream",
     "text": [
      "WARNING:tensorflow:From c:\\movie Reviews\\venv\\Lib\\site-packages\\keras\\src\\backend.py:1398: The name tf.executing_eagerly_outside_functions is deprecated. Please use tf.compat.v1.executing_eagerly_outside_functions instead.\n",
      "\n",
      "Model: \"sequential\"\n",
      "_________________________________________________________________\n",
      " Layer (type)                Output Shape              Param #   \n",
      "=================================================================\n",
      " embedding (Embedding)       (None, 500, 128)          1280000   \n",
      "                                                                 \n",
      " simple_rnn (SimpleRNN)      (None, 128)               32896     \n",
      "                                                                 \n",
      " dense (Dense)               (None, 1)                 129       \n",
      "                                                                 \n",
      "=================================================================\n",
      "Total params: 1313025 (5.01 MB)\n",
      "Trainable params: 1313025 (5.01 MB)\n",
      "Non-trainable params: 0 (0.00 Byte)\n",
      "_________________________________________________________________\n"
     ]
    }
   ],
   "source": [
    "##Load the pre-trained model with ReLU activation\n",
    "model = load_model('simple_rnn_imdb.h5')\n",
    "model.summary()"
   ]
  },
  {
   "cell_type": "code",
   "execution_count": 6,
   "metadata": {},
   "outputs": [
    {
     "data": {
      "text/plain": [
       "[array([[ 0.03467274, -0.0602151 , -0.04087678, ...,  0.00920967,\n",
       "         -0.08334963, -0.06683497],\n",
       "        [-0.0146245 , -0.04860627, -0.01344574, ..., -0.04787068,\n",
       "         -0.04250133, -0.00650941],\n",
       "        [-0.00773857, -0.06187116, -0.06148373, ..., -0.0459152 ,\n",
       "         -0.05344417, -0.05551123],\n",
       "        ...,\n",
       "        [-0.04504272, -0.03461587, -0.00139254, ..., -0.08458817,\n",
       "          0.02923904,  0.00495685],\n",
       "        [-0.01697668,  0.09303037,  0.0628738 , ...,  0.00284222,\n",
       "          0.12208834,  0.0895047 ],\n",
       "        [ 0.04841457,  0.00702205, -0.09151059, ..., -0.03761506,\n",
       "          0.07039   , -0.03451756]], dtype=float32),\n",
       " array([[-0.08370128,  0.00566288,  0.05758929, ...,  0.04521943,\n",
       "         -0.14324422, -0.00230662],\n",
       "        [ 0.04713768,  0.05752687,  0.16135679, ..., -0.10694872,\n",
       "         -0.11722627, -0.16702801],\n",
       "        [ 0.01193196,  0.10263146,  0.15624046, ..., -0.10636176,\n",
       "          0.08984493, -0.03617316],\n",
       "        ...,\n",
       "        [ 0.00055416,  0.09826545,  0.08685933, ..., -0.03675503,\n",
       "          0.14885314,  0.10692481],\n",
       "        [-0.06492861,  0.22238077,  0.06057563, ..., -0.1955687 ,\n",
       "          0.11024658, -0.17175697],\n",
       "        [-0.02793709,  0.05716118,  0.15094954, ...,  0.15997589,\n",
       "         -0.03636023, -0.09721025]], dtype=float32),\n",
       " array([[-0.22321653, -0.1110179 ,  0.00515699, ..., -0.02869683,\n",
       "          0.24925347, -0.11153355],\n",
       "        [-0.04990548, -0.09706123, -0.04207558, ..., -0.03209898,\n",
       "          0.07873386,  0.16019522],\n",
       "        [ 0.12207504,  0.08908512,  0.00224955, ...,  0.06883656,\n",
       "          0.10317908,  0.06742328],\n",
       "        ...,\n",
       "        [-0.0613838 , -0.21848387,  0.0116195 , ...,  0.06305007,\n",
       "          0.06597678,  0.25243232],\n",
       "        [-0.06984451,  0.01357631,  0.06687479, ...,  0.06167507,\n",
       "          0.01032873, -0.05085145],\n",
       "        [ 0.08665776,  0.02794844, -0.03162222, ...,  0.00565579,\n",
       "         -0.03356745,  0.09373067]], dtype=float32),\n",
       " array([-0.03031313, -0.02710433,  0.00469119, -0.01860018, -0.02537393,\n",
       "        -0.00803566, -0.05559765, -0.02579827,  0.01074756, -0.03751897,\n",
       "        -0.06093485, -0.02428764, -0.03687516,  0.02065723, -0.00191235,\n",
       "        -0.00571231,  0.0063924 ,  0.01979691,  0.02008536, -0.02398185,\n",
       "         0.02067432, -0.02518943,  0.00845777, -0.0248799 , -0.00876226,\n",
       "        -0.00487392,  0.04488032, -0.06125918, -0.04809853, -0.02027903,\n",
       "        -0.0551311 , -0.01229013, -0.00329408, -0.00131745, -0.02346665,\n",
       "         0.00061208, -0.02588693,  0.0061847 , -0.06623635, -0.02041099,\n",
       "         0.01775104, -0.01415819, -0.00271378, -0.02841192, -0.03561849,\n",
       "        -0.02433094, -0.02855635, -0.02657652, -0.01350442, -0.02913812,\n",
       "        -0.02024072, -0.03166189,  0.04795489,  0.03967125, -0.01993751,\n",
       "        -0.00677606,  0.01545934, -0.02537767, -0.03127252, -0.06552441,\n",
       "        -0.02833886,  0.00741248,  0.04602268, -0.00795073, -0.02745044,\n",
       "         0.0029794 , -0.02596061, -0.00447887,  0.03761576,  0.0028317 ,\n",
       "        -0.02540605, -0.0321556 ,  0.04573037, -0.02036106, -0.02143252,\n",
       "        -0.00432439,  0.03504542, -0.04320212,  0.06377258, -0.05633068,\n",
       "        -0.0184395 , -0.02469917,  0.00083618, -0.0282033 ,  0.01107353,\n",
       "        -0.02439913, -0.03914709,  0.0399159 , -0.02374981, -0.02437984,\n",
       "         0.01432492, -0.01694172, -0.01072535, -0.06595159, -0.01630406,\n",
       "         0.04192616, -0.00677567, -0.01097336, -0.0511107 , -0.0223701 ,\n",
       "        -0.0154576 , -0.04991191, -0.02553421, -0.02309172, -0.02949635,\n",
       "         0.02782118, -0.02504074, -0.04840584, -0.0010771 , -0.04044292,\n",
       "        -0.0209551 , -0.01878027, -0.00595466,  0.03750096,  0.01102184,\n",
       "         0.02289924, -0.05138049,  0.04324582,  0.0124325 , -0.03029371,\n",
       "         0.02078622, -0.01336442, -0.0019817 , -0.00382849,  0.01734297,\n",
       "         0.03584865, -0.03400779, -0.00297669], dtype=float32),\n",
       " array([[ 9.71350521e-02],\n",
       "        [-7.92274997e-02],\n",
       "        [-5.08671030e-02],\n",
       "        [-4.82280813e-02],\n",
       "        [ 2.96929419e-01],\n",
       "        [-2.17868447e-01],\n",
       "        [ 1.37791455e-01],\n",
       "        [-1.80721089e-01],\n",
       "        [ 4.43734750e-02],\n",
       "        [-8.32470953e-01],\n",
       "        [-2.07325518e-01],\n",
       "        [-1.63118780e-01],\n",
       "        [-2.40744208e-03],\n",
       "        [-1.18753769e-01],\n",
       "        [-1.40846625e-01],\n",
       "        [-1.01446941e-01],\n",
       "        [-9.26170349e-02],\n",
       "        [-7.04921782e-02],\n",
       "        [ 1.93062142e-01],\n",
       "        [-1.32964216e-02],\n",
       "        [-1.41321674e-01],\n",
       "        [-1.63439661e-01],\n",
       "        [-2.02679768e-01],\n",
       "        [-4.94734496e-02],\n",
       "        [-1.87133837e+00],\n",
       "        [-1.50503933e-01],\n",
       "        [ 1.43833801e-01],\n",
       "        [ 1.37096167e-01],\n",
       "        [ 1.22785896e-01],\n",
       "        [ 5.82078174e-02],\n",
       "        [ 1.11225806e-01],\n",
       "        [-1.55111194e-01],\n",
       "        [-5.23685850e-02],\n",
       "        [-1.21573798e-01],\n",
       "        [-1.31377906e-01],\n",
       "        [ 1.14723170e+00],\n",
       "        [-1.28002658e-01],\n",
       "        [ 8.34302753e-02],\n",
       "        [ 1.33217331e-02],\n",
       "        [ 1.04876943e-01],\n",
       "        [-1.78771481e-01],\n",
       "        [ 2.52092719e-01],\n",
       "        [ 1.51661813e-01],\n",
       "        [ 1.28234088e-01],\n",
       "        [-1.66901633e-01],\n",
       "        [-1.86827302e-01],\n",
       "        [-2.43799657e-01],\n",
       "        [ 1.25805974e-01],\n",
       "        [-1.06646270e-01],\n",
       "        [-2.71196544e-01],\n",
       "        [-4.48470682e-01],\n",
       "        [-1.29655510e-01],\n",
       "        [ 2.25479960e-01],\n",
       "        [ 2.24804491e-01],\n",
       "        [-2.14418605e-01],\n",
       "        [-1.50472611e-01],\n",
       "        [ 2.42542680e-02],\n",
       "        [-9.95079339e-01],\n",
       "        [-1.64369613e-01],\n",
       "        [ 1.00782581e-01],\n",
       "        [ 1.99478075e-01],\n",
       "        [-5.00490546e-01],\n",
       "        [ 2.43866429e-01],\n",
       "        [-1.70520484e-01],\n",
       "        [-1.27738640e-01],\n",
       "        [ 2.23040894e-01],\n",
       "        [-2.06073135e-01],\n",
       "        [ 1.67340174e-01],\n",
       "        [-4.48635846e-01],\n",
       "        [-1.04235657e-01],\n",
       "        [-7.03025877e-01],\n",
       "        [-1.48681223e-01],\n",
       "        [ 1.30038098e-01],\n",
       "        [-3.65992337e-02],\n",
       "        [-7.97298327e-02],\n",
       "        [-1.86243907e-01],\n",
       "        [ 9.12588716e-01],\n",
       "        [-1.39823663e+00],\n",
       "        [-3.92481796e-02],\n",
       "        [ 1.50590643e-01],\n",
       "        [-6.48683608e-02],\n",
       "        [-1.39631674e-01],\n",
       "        [-9.36426967e-02],\n",
       "        [-2.30537459e-01],\n",
       "        [ 3.93532328e-02],\n",
       "        [-1.05462946e-01],\n",
       "        [-8.35476071e-02],\n",
       "        [ 2.24225551e-01],\n",
       "        [ 6.26222640e-02],\n",
       "        [ 1.84919648e-02],\n",
       "        [ 1.28308862e-01],\n",
       "        [ 1.35308892e-01],\n",
       "        [-1.28583703e-03],\n",
       "        [ 1.15505785e-01],\n",
       "        [ 1.44551918e-01],\n",
       "        [ 6.46624565e-02],\n",
       "        [-2.16413692e-01],\n",
       "        [ 1.68718830e-01],\n",
       "        [ 7.65842497e-02],\n",
       "        [ 1.25022233e-01],\n",
       "        [-5.75442463e-02],\n",
       "        [ 1.87714428e-01],\n",
       "        [ 9.97536033e-02],\n",
       "        [-5.32913171e-02],\n",
       "        [-1.47005156e-01],\n",
       "        [-1.99927580e+00],\n",
       "        [ 1.09613866e-01],\n",
       "        [ 8.55735242e-02],\n",
       "        [ 2.05078442e-02],\n",
       "        [ 8.18003193e-02],\n",
       "        [ 1.57598212e-01],\n",
       "        [ 1.94377139e-01],\n",
       "        [-1.21507213e-01],\n",
       "        [ 1.14386074e-01],\n",
       "        [-2.77687669e-01],\n",
       "        [ 2.18292415e-01],\n",
       "        [ 1.39135137e-01],\n",
       "        [ 1.69944122e-01],\n",
       "        [-7.36367106e-02],\n",
       "        [-1.27681345e-01],\n",
       "        [-6.55495971e-02],\n",
       "        [ 4.45451289e-02],\n",
       "        [-2.04907015e-01],\n",
       "        [-6.60058632e-02],\n",
       "        [-1.03015281e-01],\n",
       "        [ 2.10757539e-01],\n",
       "        [ 3.88637409e-02],\n",
       "        [-1.14321103e-02]], dtype=float32),\n",
       " array([-1.4637624], dtype=float32)]"
      ]
     },
     "execution_count": 6,
     "metadata": {},
     "output_type": "execute_result"
    }
   ],
   "source": [
    "model.get_weights()"
   ]
  },
  {
   "cell_type": "code",
   "execution_count": 7,
   "metadata": {},
   "outputs": [],
   "source": [
    "# Step 2: Helper Functions\n",
    "# Function to decode reviews\n",
    "def decode_review(encoded_review):\n",
    "    return ' '.join([reverse_word_index.get(i - 3, '?') for i in encoded_review])\n",
    "\n",
    "# Function to preprocess user input\n",
    "def preprocess_text(text):\n",
    "    words = text.lower().split()\n",
    "    encoded_review = [word_index.get(word, 2) + 3 for word in words]\n",
    "    padded_review = sequence.pad_sequences([encoded_review], maxlen=500)\n",
    "    return padded_review"
   ]
  },
  {
   "cell_type": "code",
   "execution_count": 8,
   "metadata": {},
   "outputs": [],
   "source": [
    "##Prediction function\n",
    "\n",
    "def predict_sentiment(review):\n",
    "    preprocessed_input = preprocess_text(review)\n",
    "\n",
    "    prediction = model.predict(preprocessed_input)\n",
    "    \n",
    "    sentiment = 'Positive' if prediction[0][0] > 0.5 else 'Negative'\n",
    "\n",
    "    return sentiment, prediction[0][0]"
   ]
  },
  {
   "cell_type": "code",
   "execution_count": 10,
   "metadata": {},
   "outputs": [
    {
     "name": "stdout",
     "output_type": "stream",
     "text": [
      "1/1 [==============================] - 0s 333ms/step\n",
      "Review: This movie was fantastic! The acting was great and the plot was thrilling.\n",
      "Sentiment: Positive\n",
      "Prediction Score: 0.86163729429245\n"
     ]
    }
   ],
   "source": [
    "##User INput and prediction\n",
    "##Example review for prediction\n",
    "example_review = \"This movie was fantastic! The acting was great and the plot was thrilling.\"\n",
    "\n",
    "sentiment,score=predict_sentiment(example_review)\n",
    "\n",
    "print(f'Review: {example_review}')\n",
    "print(f'Sentiment: {sentiment}')\n",
    "print(f'Prediction Score: {score}')"
   ]
  },
  {
   "cell_type": "code",
   "execution_count": null,
   "metadata": {},
   "outputs": [],
   "source": []
  },
  {
   "cell_type": "code",
   "execution_count": null,
   "metadata": {},
   "outputs": [],
   "source": []
  },
  {
   "cell_type": "code",
   "execution_count": null,
   "metadata": {},
   "outputs": [],
   "source": []
  },
  {
   "cell_type": "code",
   "execution_count": null,
   "metadata": {},
   "outputs": [],
   "source": []
  },
  {
   "cell_type": "code",
   "execution_count": null,
   "metadata": {},
   "outputs": [],
   "source": []
  },
  {
   "cell_type": "code",
   "execution_count": null,
   "metadata": {},
   "outputs": [],
   "source": []
  },
  {
   "cell_type": "code",
   "execution_count": null,
   "metadata": {},
   "outputs": [],
   "source": []
  },
  {
   "cell_type": "code",
   "execution_count": null,
   "metadata": {},
   "outputs": [],
   "source": []
  },
  {
   "cell_type": "code",
   "execution_count": null,
   "metadata": {},
   "outputs": [],
   "source": []
  },
  {
   "cell_type": "code",
   "execution_count": null,
   "metadata": {},
   "outputs": [],
   "source": []
  },
  {
   "cell_type": "code",
   "execution_count": null,
   "metadata": {},
   "outputs": [],
   "source": []
  },
  {
   "cell_type": "code",
   "execution_count": null,
   "metadata": {},
   "outputs": [],
   "source": []
  },
  {
   "cell_type": "code",
   "execution_count": null,
   "metadata": {},
   "outputs": [],
   "source": []
  },
  {
   "cell_type": "code",
   "execution_count": null,
   "metadata": {},
   "outputs": [],
   "source": []
  },
  {
   "cell_type": "code",
   "execution_count": null,
   "metadata": {},
   "outputs": [],
   "source": []
  },
  {
   "cell_type": "code",
   "execution_count": null,
   "metadata": {},
   "outputs": [],
   "source": []
  },
  {
   "cell_type": "code",
   "execution_count": null,
   "metadata": {},
   "outputs": [],
   "source": []
  },
  {
   "cell_type": "code",
   "execution_count": null,
   "metadata": {},
   "outputs": [],
   "source": []
  },
  {
   "cell_type": "code",
   "execution_count": null,
   "metadata": {},
   "outputs": [],
   "source": []
  },
  {
   "cell_type": "code",
   "execution_count": null,
   "metadata": {},
   "outputs": [],
   "source": []
  },
  {
   "cell_type": "code",
   "execution_count": null,
   "metadata": {},
   "outputs": [],
   "source": []
  },
  {
   "cell_type": "code",
   "execution_count": null,
   "metadata": {},
   "outputs": [],
   "source": []
  },
  {
   "cell_type": "code",
   "execution_count": null,
   "metadata": {},
   "outputs": [],
   "source": []
  },
  {
   "cell_type": "code",
   "execution_count": null,
   "metadata": {},
   "outputs": [],
   "source": []
  },
  {
   "cell_type": "code",
   "execution_count": null,
   "metadata": {},
   "outputs": [],
   "source": []
  },
  {
   "cell_type": "code",
   "execution_count": null,
   "metadata": {},
   "outputs": [],
   "source": []
  },
  {
   "cell_type": "code",
   "execution_count": null,
   "metadata": {},
   "outputs": [],
   "source": []
  },
  {
   "cell_type": "code",
   "execution_count": null,
   "metadata": {},
   "outputs": [],
   "source": []
  },
  {
   "cell_type": "code",
   "execution_count": null,
   "metadata": {},
   "outputs": [],
   "source": []
  },
  {
   "cell_type": "code",
   "execution_count": null,
   "metadata": {},
   "outputs": [],
   "source": []
  },
  {
   "cell_type": "code",
   "execution_count": null,
   "metadata": {},
   "outputs": [],
   "source": []
  },
  {
   "cell_type": "code",
   "execution_count": null,
   "metadata": {},
   "outputs": [],
   "source": []
  },
  {
   "cell_type": "code",
   "execution_count": null,
   "metadata": {},
   "outputs": [],
   "source": []
  },
  {
   "cell_type": "code",
   "execution_count": null,
   "metadata": {},
   "outputs": [],
   "source": []
  },
  {
   "cell_type": "code",
   "execution_count": null,
   "metadata": {},
   "outputs": [],
   "source": []
  },
  {
   "cell_type": "code",
   "execution_count": null,
   "metadata": {},
   "outputs": [],
   "source": []
  },
  {
   "cell_type": "code",
   "execution_count": null,
   "metadata": {},
   "outputs": [],
   "source": []
  },
  {
   "cell_type": "code",
   "execution_count": null,
   "metadata": {},
   "outputs": [],
   "source": []
  },
  {
   "cell_type": "code",
   "execution_count": null,
   "metadata": {},
   "outputs": [],
   "source": []
  },
  {
   "cell_type": "code",
   "execution_count": null,
   "metadata": {},
   "outputs": [],
   "source": []
  },
  {
   "cell_type": "code",
   "execution_count": null,
   "metadata": {},
   "outputs": [],
   "source": []
  },
  {
   "cell_type": "code",
   "execution_count": null,
   "metadata": {},
   "outputs": [],
   "source": []
  },
  {
   "cell_type": "code",
   "execution_count": null,
   "metadata": {},
   "outputs": [],
   "source": []
  },
  {
   "cell_type": "code",
   "execution_count": null,
   "metadata": {},
   "outputs": [],
   "source": []
  },
  {
   "cell_type": "code",
   "execution_count": null,
   "metadata": {},
   "outputs": [],
   "source": []
  },
  {
   "cell_type": "code",
   "execution_count": null,
   "metadata": {},
   "outputs": [],
   "source": []
  },
  {
   "cell_type": "code",
   "execution_count": null,
   "metadata": {},
   "outputs": [],
   "source": []
  },
  {
   "cell_type": "code",
   "execution_count": null,
   "metadata": {},
   "outputs": [],
   "source": []
  },
  {
   "cell_type": "code",
   "execution_count": null,
   "metadata": {},
   "outputs": [],
   "source": []
  },
  {
   "cell_type": "code",
   "execution_count": null,
   "id": "2923e5e5",
   "metadata": {},
   "outputs": [],
   "source": []
  },
  {
   "cell_type": "code",
   "execution_count": null,
   "id": "1471a277",
   "metadata": {},
   "outputs": [],
   "source": []
  }
 ],
 "metadata": {
  "kernelspec": {
   "display_name": "Python 3",
   "language": "python",
   "name": "python3"
  },
  "language_info": {
   "codemirror_mode": {
    "name": "ipython",
    "version": 3
   },
   "file_extension": ".py",
   "mimetype": "text/x-python",
   "name": "python",
   "nbconvert_exporter": "python",
   "pygments_lexer": "ipython3",
   "version": "3.11.0"
  }
 },
 "nbformat": 4,
 "nbformat_minor": 5
}
